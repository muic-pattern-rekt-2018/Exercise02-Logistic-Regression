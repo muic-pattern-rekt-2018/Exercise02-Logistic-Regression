{
 "cells": [
  {
   "cell_type": "markdown",
   "metadata": {},
   "source": [
    "# Likelihood\n",
    "\n",
    "Let's make sure we understand a fundamental statistics concept which makes the logistic regression works before we even discuss the logistic regression."
   ]
  },
  {
   "cell_type": "markdown",
   "metadata": {},
   "source": [
    "Consider 2 Mangoes Farm. Here are some information about both of them."
   ]
  },
  {
   "cell_type": "markdown",
   "metadata": {},
   "source": [
    "- **Poon's Farm**\n",
    "    - 70% of mango is sour. 30% is sweet\n",
    "    \n",
    "- **Ply's Farm**\n",
    "    - 20% of mango is sour and 80% is sweet."
   ]
  },
  {
   "cell_type": "markdown",
   "metadata": {},
   "source": [
    "Now you found an unlabeled basket. With 6 Sour Mangoes and 4 Sweet Mangoes."
   ]
  },
  {
   "cell_type": "markdown",
   "metadata": {},
   "source": [
    "1) If this basket is from Poon's farm what is the probability that Poon's Farm would produce such basket?"
   ]
  },
  {
   "cell_type": "code",
   "execution_count": 2,
   "metadata": {
    "ExecuteTime": {
     "end_time": "2022-05-11T05:57:36.786387Z",
     "start_time": "2022-05-11T05:57:36.779319Z"
    }
   },
   "outputs": [
    {
     "data": {
      "text/plain": [
       "0.0020971520000000014"
      ]
     },
     "execution_count": 2,
     "metadata": {},
     "output_type": "execute_result"
    }
   ],
   "source": [
    "0.8**6*0.2**3"
   ]
  },
  {
   "cell_type": "markdown",
   "metadata": {},
   "source": [
    "2) If this basket is from Ply's farm what is the probability that Ply's Farm would produce such basket?"
   ]
  },
  {
   "cell_type": "code",
   "execution_count": null,
   "metadata": {},
   "outputs": [],
   "source": []
  },
  {
   "cell_type": "markdown",
   "metadata": {},
   "source": [
    "3) Where do you think the basket is from?"
   ]
  },
  {
   "cell_type": "code",
   "execution_count": null,
   "metadata": {},
   "outputs": [],
   "source": []
  },
  {
   "cell_type": "markdown",
   "metadata": {},
   "source": [
    "4) Is your logic correct? What you just calculated is called likelihood. Is it\n",
    "\n",
    "$$\n",
    "    P(Basket|Farm) \\; \\text{ or } \\; P(Farm|Basket)\n",
    "$$"
   ]
  },
  {
   "cell_type": "code",
   "execution_count": null,
   "metadata": {},
   "outputs": [],
   "source": []
  },
  {
   "cell_type": "markdown",
   "metadata": {},
   "source": [
    "5) If we want to label the basket, which one do we want to calculate?\n",
    "\n",
    "$$\n",
    "    P(Basket|Farm) \\; \\text{ or } \\; P(Farm|Basket)\n",
    "$$"
   ]
  },
  {
   "cell_type": "code",
   "execution_count": null,
   "metadata": {},
   "outputs": [],
   "source": []
  },
  {
   "cell_type": "markdown",
   "metadata": {},
   "source": [
    "6) But... what we did seems very reasonable. So, Let's try to understand it a bit more. We learned from last class that\n",
    "\n",
    "$$\n",
    "P(Ply | Basket) \\times P(Basket) = P(Basket|Ply) \\times P(Ply)\n",
    "$$\n",
    "and similarily\n",
    "$$\n",
    "P(Poon | Basket) \\times P(Basket) = P(Basket|Poon) \\times P(Poon)\n",
    "$$\n",
    "\n",
    "which means if we were to choose whether the Basket comes from Ply's farm of Poon's farm we can just compare the ratio\n",
    "\n",
    "$$\n",
    "    \\frac{P(Ply | Basket)}{ P(Poon | Basket)} = \\frac{P(Basket|Ply)}{ P(Basket|Poon) } \\times \\frac{P(Ply)}{P(Poon)}\n",
    "$$\n",
    "\n",
    "So when we pick one farm over the other based on the the comparison of $P(Basket|Ply)$ and  $P(Basket|Poon)$, what did we assume on the prior terms?"
   ]
  },
  {
   "cell_type": "markdown",
   "metadata": {},
   "source": [
    "# Logistic Regression"
   ]
  },
  {
   "cell_type": "code",
   "execution_count": 3,
   "metadata": {
    "ExecuteTime": {
     "end_time": "2022-05-11T06:33:32.480782Z",
     "start_time": "2022-05-11T06:33:30.523810Z"
    }
   },
   "outputs": [],
   "source": [
    "%matplotlib inline\n",
    "import numpy as np\n",
    "from matplotlib import pyplot as plt\n",
    "import math\n",
    "import pandas as pd"
   ]
  },
  {
   "cell_type": "markdown",
   "metadata": {},
   "source": [
    "Let us consider the following data in `xps` and `xms`. These are features of two classes +1 and -1.\n",
    "\n",
    "When we have two classes we usually call them +1 and -1 since it simplify a lot of formula greatly."
   ]
  },
  {
   "cell_type": "markdown",
   "metadata": {},
   "source": [
    "### Main Idea\n",
    "\n",
    "The main idea here is that we are given data of two classes and we want to build a **system** which can classify the data into the two classes based on the given feature.\n",
    "\n",
    "To do that, we will search for the best the **data generator**. Then we will use that **data generator** to find the class.\n",
    "\n",
    "A better concrete analogy would be that \n",
    "\n",
    "    1. you went into a warehouse full of fruit baskets which comes from the same farm. You are allowed to taste exactly one basket. \n",
    "    2. After tasting a basket and comparing likelihood, you conclude that the whole warehouse belongs to Plys' Farm. \n",
    "    3. Now given a random mango from the warehouse you can tell that there is an 80% chance that it will be a sweet mango\n",
    "    \n",
    "The technical details can be abit intimidating. But just keep this main idea in mind things will become a bit easier to understand."
   ]
  },
  {
   "cell_type": "code",
   "execution_count": null,
   "metadata": {},
   "outputs": [],
   "source": []
  },
  {
   "cell_type": "code",
   "execution_count": 15,
   "metadata": {
    "ExecuteTime": {
     "end_time": "2022-05-11T07:33:41.231057Z",
     "start_time": "2022-05-11T07:33:41.213044Z"
    }
   },
   "outputs": [],
   "source": [
    "np.random.seed(12345)\n",
    "nplus = 1000\n",
    "nminus = 500\n",
    "\n",
    "xps = np.random.randn(nplus) + 2. # male\n",
    "xms = np.random.randn(nminus) # female\n",
    "\n",
    "alln = nplus + nminus"
   ]
  },
  {
   "cell_type": "code",
   "execution_count": 17,
   "metadata": {
    "ExecuteTime": {
     "end_time": "2022-05-11T07:34:06.322309Z",
     "start_time": "2022-05-11T07:34:06.299159Z"
    }
   },
   "outputs": [
    {
     "data": {
      "text/plain": [
       "array([-9.83504717e-01,  9.30943764e-01, -8.11675639e-01, -1.83015626e+00,\n",
       "       -1.38730146e-01,  3.34088351e-01,  4.88674994e-01, -1.78098226e-01,\n",
       "        2.12231470e+00,  6.11919495e-02,  8.84110821e-01, -6.08505836e-01,\n",
       "       -7.20516756e-02,  5.44066287e-01,  3.23885545e-01, -1.68332517e+00,\n",
       "        5.26860435e-01,  1.85879122e+00, -5.48419452e-01, -2.79397288e-01,\n",
       "       -2.12989863e-02, -2.87990237e-01,  8.91745988e-02,  5.22857735e-01,\n",
       "        5.72796449e-01, -1.76037169e+00,  1.12817940e+00,  1.56860620e+00,\n",
       "       -3.42277145e-01, -9.81300278e-03,  5.30717701e-02, -4.19434456e-02,\n",
       "       -1.69431249e+00, -3.62380844e-01,  1.12745262e+00,  2.18383015e+00,\n",
       "       -1.18662278e+00,  3.34269695e-01, -1.02838881e+00, -1.68495578e-01,\n",
       "       -9.98948357e-01, -1.53115136e+00, -1.07911108e+00, -1.09773190e+00,\n",
       "        4.05147557e-01, -2.27228189e-01, -1.44279215e+00, -1.42257533e+00,\n",
       "       -1.12316481e+00,  2.16205384e-01, -4.59849288e-01,  3.33391706e-01,\n",
       "       -2.54742262e-01, -4.48301374e-01, -1.26134379e+00,  1.16514781e+00,\n",
       "       -6.21249236e-01, -7.99318495e-01,  7.77233326e-01, -6.12904739e-01,\n",
       "        3.16446654e-01,  8.38295224e-01, -1.03442316e+00,  4.34304038e-01,\n",
       "       -2.21313325e+00,  7.58040340e-01,  5.53932642e-01,  3.39230720e-01,\n",
       "       -6.88756290e-01, -8.15526028e-01, -3.32420150e-01,  2.40648272e+00,\n",
       "       -1.36142802e+00, -6.69618572e-01,  7.81198872e-01, -3.95813394e-01,\n",
       "       -1.80736730e-01,  1.33750811e+00, -4.16583755e-01,  3.29313373e-01,\n",
       "       -7.32598888e-01,  1.37888777e-01, -7.19671866e-01,  1.92764027e+00,\n",
       "       -3.15813113e-01, -1.86934065e+00, -4.28578982e-01, -1.79051694e-02,\n",
       "       -1.72028486e+00,  1.08667200e-02,  8.24169585e-01, -4.89179649e-01,\n",
       "        1.83249241e+00,  1.65866843e+00,  4.54104592e-01, -1.94963946e-01,\n",
       "       -9.76914063e-01, -2.96088252e-01, -5.81274393e-01, -1.99409341e-02,\n",
       "       -3.81001393e-02,  1.19262955e+00, -1.09812699e+00, -6.32914509e-01,\n",
       "        8.02414132e-01, -6.50607441e-02, -1.54207960e-01,  9.21908213e-01,\n",
       "        1.95646320e+00,  3.79706321e-01,  2.70779864e-01, -1.12707270e+00,\n",
       "        5.25962153e-01,  5.90275025e-01,  1.13909571e+00,  5.48540655e-02,\n",
       "        5.50077900e-01,  1.60380519e-01,  1.60301251e-01, -7.12899568e-01,\n",
       "       -3.08271701e-01,  3.17635287e-01,  2.45884191e+00, -8.78777027e-01,\n",
       "        8.50684449e-01,  2.05855305e-01,  3.03004572e-01, -2.25958899e-01,\n",
       "        1.90545499e+00,  1.49669417e+00,  1.33961380e-01, -5.03657480e-01,\n",
       "       -6.11042247e-01,  4.60493892e-02,  1.00616598e+00,  9.30568518e-01,\n",
       "       -1.70330986e-01, -5.95648676e-01, -4.63841876e-01, -1.25415689e+00,\n",
       "       -1.07774696e+00, -6.08462315e-01,  1.09970070e-01, -7.65419122e-02,\n",
       "       -4.69008746e-01,  2.66838989e-01, -1.84827151e+00, -1.08024853e+00,\n",
       "        2.93896622e-03, -6.30088754e-01, -1.09566605e+00,  5.79815115e-01,\n",
       "        3.32164487e-01, -1.27272771e+00, -6.73318864e-01, -5.11004655e-01,\n",
       "       -1.48929824e+00,  6.67737010e-01, -1.82294591e+00,  8.41177440e-01,\n",
       "        3.98274470e-01, -9.97763142e-01,  8.72728702e-01, -5.59901541e-01,\n",
       "        3.30819704e-01, -1.01837889e+00, -3.42787230e-01, -3.20675408e-01,\n",
       "       -4.08675360e-01, -2.43159387e+00,  5.33810503e-01, -5.06166746e-01,\n",
       "       -4.67566817e-01, -8.04300462e-01, -1.62366916e+00, -1.05663521e-01,\n",
       "       -5.46195148e-01,  2.01306716e+00, -5.43724709e-01, -6.54147147e-01,\n",
       "       -4.96375713e-01, -7.64294563e-02,  1.20867889e+00,  1.05286059e+00,\n",
       "       -2.07713284e+00,  1.77637577e-01, -1.67977199e+00,  4.99993467e-01,\n",
       "       -1.38289093e+00,  1.63755024e-01, -1.26520403e+00, -2.84329818e-01,\n",
       "       -3.72904193e-01,  1.24517311e+00, -2.23711055e+00, -5.70823577e-01,\n",
       "        1.37124455e+00,  1.16202060e+00,  6.06480715e-01,  2.64513318e-01,\n",
       "        3.51700277e-01,  4.82436762e-01, -8.41098890e-02, -4.97843115e-01,\n",
       "       -7.20805736e-01, -1.65070518e-01, -4.03435034e-01, -7.12109464e-01,\n",
       "        1.25106821e-01, -1.13616658e-01, -1.35306538e+00, -8.30971557e-01,\n",
       "        3.65190055e-01, -5.44736288e-01,  9.77949371e-01, -2.56382465e-01,\n",
       "        5.10783303e-01,  7.20283014e-01,  3.80876680e-01,  1.00340069e+00,\n",
       "       -2.31555489e+00,  4.57246330e-01, -2.59067060e-02, -3.39931182e+00,\n",
       "       -9.74657119e-01, -6.85312362e-01, -6.45858119e-01, -3.07592715e-02,\n",
       "       -1.01151748e+00, -1.22654694e-01, -4.38517210e-01,  1.21358577e+00,\n",
       "       -6.38035831e-01, -3.73945258e-01, -5.34322126e-02, -1.04607575e-01,\n",
       "        3.93810551e-01, -1.32037450e-01, -5.29249663e-01,  3.03549749e-01,\n",
       "       -8.89604425e-01, -1.73346018e-01,  6.43301627e-01, -1.25400773e+00,\n",
       "        1.17247580e-01,  8.66543681e-01,  1.07946384e+00, -3.97474866e-01,\n",
       "        1.48750599e+00,  5.58011460e-01,  6.14350469e-01,  4.27964251e-01,\n",
       "       -2.71958985e-01,  7.38758742e-01, -5.08070278e-01,  1.31527312e+00,\n",
       "        4.45930320e-01,  5.73191753e-01,  1.93261522e-01,  4.42924313e-01,\n",
       "        1.27961904e+00,  5.75008357e-01,  4.33936147e-01, -7.65794137e-01,\n",
       "       -1.23702325e+00, -5.36722419e-01,  1.85453705e+00, -9.20005117e-01,\n",
       "       -1.08201712e-01,  1.52496639e-01,  9.43493462e-01, -1.09526452e+00,\n",
       "       -1.44028190e-01,  1.95623208e+00, -2.91172189e-01,  1.04785886e-01,\n",
       "        1.39568214e-01, -2.84079161e-01, -7.08195558e-01,  2.46323794e+00,\n",
       "        2.17452992e-01, -1.05595627e-02, -6.04469948e-03,  4.90093807e-01,\n",
       "       -2.77185956e-01, -7.07213321e-01, -5.60106831e-01,  2.73552719e+00,\n",
       "        9.27334705e-01,  1.51390627e+00,  5.38599609e-01,  1.27376805e+00,\n",
       "        6.67876162e-01, -9.69205910e-01,  1.67609134e+00, -8.17649422e-01,\n",
       "        5.01882836e-02,  1.95131214e+00,  3.26038307e+00,  9.63300864e-01,\n",
       "        1.20120643e+00, -1.85200092e+00,  2.40677846e+00,  8.41175901e-01,\n",
       "       -7.49181193e-01, -2.98974099e+00, -1.29528944e+00, -1.69019476e+00,\n",
       "        2.62844077e+00, -4.24586472e-01, -1.31437162e+00, -1.05925587e-02,\n",
       "       -4.97174932e-01,  9.64020665e-01, -7.05832657e-01,  1.68566489e+00,\n",
       "       -9.27844122e-01, -4.04840210e-01, -1.37409235e-01, -4.22000041e-01,\n",
       "       -2.04169552e+00, -3.18637201e-01,  4.41012588e-01, -1.02459978e+00,\n",
       "        5.61055476e-01, -6.15039679e-02,  1.44124511e+00,  8.65593559e-01,\n",
       "       -4.41980748e-01,  5.07920920e-01, -1.12213360e+00, -5.16377924e-01,\n",
       "        7.18409061e-01, -1.92977646e+00,  2.52793894e+00,  7.31370048e-01,\n",
       "        7.44235829e-01, -1.80117943e+00,  3.99881008e-01, -3.77000053e-01,\n",
       "       -1.78123680e+00, -2.72202487e-01, -1.02023172e+00,  4.02790274e-01,\n",
       "        1.55483130e+00,  7.56181498e-01,  1.35686588e+00, -1.16538587e+00,\n",
       "       -1.13557905e+00, -1.47489630e+00,  6.18283607e-01,  4.42270955e-01,\n",
       "       -1.32696245e+00,  9.27045285e-01, -1.15571733e-01,  9.43478762e-01,\n",
       "       -3.49365691e-01,  5.30411861e-01, -5.08723972e-01,  2.30643468e-01,\n",
       "       -6.55693639e-02, -2.48717463e-01, -5.87135909e-01, -1.02232373e+00,\n",
       "        1.06066064e+00,  9.54768318e-01, -5.11823507e-01, -1.38768050e+00,\n",
       "        7.67902468e-01, -1.16449020e+00,  1.52706984e+00,  2.87542444e-01,\n",
       "        7.15359303e-01, -3.45805348e-01,  4.70886195e-01, -1.12151468e+00,\n",
       "       -1.54436476e+00,  1.72051335e+00, -1.71723954e-01, -8.27840187e-01,\n",
       "        3.70547718e-01, -6.74167179e-01, -1.71234020e+00, -7.38151234e-01,\n",
       "        3.91812524e-01,  1.76340305e+00, -5.46296917e-02, -6.56505767e-01,\n",
       "       -1.55008674e+00, -4.43466001e-02,  6.81469793e-01, -9.53726091e-01,\n",
       "       -1.85701626e+00,  4.49495314e-01, -6.17321933e-02,  1.23391442e+00,\n",
       "        7.05829607e-01, -1.30907705e+00, -1.53737973e+00,  5.31550868e-01,\n",
       "        2.04757288e+00,  4.46691193e-01, -2.23556276e-01,  9.28347620e-02,\n",
       "        7.16075543e-01,  6.57197909e-01, -6.67480923e-02,  8.38639129e-01,\n",
       "       -1.17388213e-01, -5.17794528e-01, -1.16695767e-01,  2.38964473e+00,\n",
       "       -9.32453522e-01, -2.29330505e-01, -1.14033014e+00,  4.39919618e-01,\n",
       "       -8.23757552e-01, -5.20929998e-01,  3.50281927e-01,  2.04395338e-01,\n",
       "        1.33445331e-01,  3.27904608e-01,  7.21531433e-02,  1.31677620e-01,\n",
       "       -1.29745924e+00,  9.97746853e-01,  8.70954947e-01, -9.91252908e-01,\n",
       "        1.51698694e-01,  1.26615135e+00, -2.02468628e-01,  5.07175796e-02,\n",
       "        6.39869392e-01,  5.97594236e-01, -7.97246035e-01,  4.72879287e-01,\n",
       "        5.22356101e-01, -5.46348301e-01, -7.33536835e-01,  1.30273612e+00,\n",
       "        2.21985669e-02,  3.64287257e-01, -9.22838595e-01,  3.12655791e-01,\n",
       "       -1.12849698e+00, -3.33487981e-01, -5.14550685e-01, -5.59781920e-01,\n",
       "       -7.83407737e-01, -1.79768493e+00, -1.72669640e-01,  6.80215173e-01,\n",
       "        1.60757835e+00,  2.00380535e-01, -8.34067750e-01, -3.02987785e-01,\n",
       "        1.66326070e+00, -9.96205757e-01,  1.52175982e+00,  2.44175055e-01,\n",
       "        4.23330730e-01, -6.54040144e-01,  2.08915441e+00, -6.02196293e-02,\n",
       "       -1.67932631e-01,  6.31634182e-01, -1.59431303e+00, -1.51993650e+00,\n",
       "        1.10875233e+00,  1.25585260e+00, -2.43297188e-02, -2.04793927e+00,\n",
       "       -2.72656692e-01, -1.69261539e+00,  1.42383017e+00, -4.07889694e-01,\n",
       "        7.56332075e-01, -1.28860175e+00,  8.67534339e-01,  5.75283057e-01,\n",
       "        3.04205215e-01,  1.81458219e+00,  1.63485827e+00, -1.64569264e+00,\n",
       "       -4.07164113e-01, -2.52765356e-01, -8.94589586e-01,  9.55842470e-01,\n",
       "       -1.65398387e+00, -2.62527613e-01, -9.76094077e-01, -1.49340657e+00,\n",
       "        1.16785776e+00,  9.69001143e-01, -2.53648729e+00,  3.62754324e-01,\n",
       "       -1.19614599e+00,  1.63697385e+00,  2.51343092e-01,  1.62462311e+00])"
      ]
     },
     "execution_count": 17,
     "metadata": {},
     "output_type": "execute_result"
    }
   ],
   "source": [
    "xps # male\n",
    "xms # female"
   ]
  },
  {
   "cell_type": "code",
   "execution_count": null,
   "metadata": {},
   "outputs": [],
   "source": []
  },
  {
   "cell_type": "code",
   "execution_count": 8,
   "metadata": {
    "ExecuteTime": {
     "end_time": "2022-05-11T06:37:32.484862Z",
     "start_time": "2022-05-11T06:37:31.844063Z"
    }
   },
   "outputs": [
    {
     "data": {
      "text/plain": [
       "<matplotlib.legend.Legend at 0x7fb2401a5ef0>"
      ]
     },
     "execution_count": 8,
     "metadata": {},
     "output_type": "execute_result"
    },
    {
     "data": {
      "image/png": "[encoded data removed]",
      "text/plain": [
       "<Figure size 864x576 with 1 Axes>"
      ]
     },
     "metadata": {
      "image/png": {
       "height": 465,
       "width": 703
      },
      "needs_background": "light"
     },
     "output_type": "display_data"
    }
   ],
   "source": [
    "plt.figure(figsize=(12,8))\n",
    "bins = np.linspace(-5,5,50)\n",
    "hp, b1, p1 = plt.hist(xps, bins=bins, alpha=0.5, label='+1')\n",
    "hm, b2, p2 = plt.hist(xms, bins=bins, alpha=0.5, label ='-1')\n",
    "plt.legend()"
   ]
  },
  {
   "cell_type": "markdown",
   "metadata": {},
   "source": [
    "1) First plot\n",
    "$P(+1|x)$ vs $x$\n",
    "\n",
    "`hp` and `hm` contains histogram value for class +1 and -1."
   ]
  },
  {
   "cell_type": "code",
   "execution_count": 9,
   "metadata": {
    "ExecuteTime": {
     "end_time": "2022-05-11T06:37:32.918612Z",
     "start_time": "2022-05-11T06:37:32.624933Z"
    }
   },
   "outputs": [
    {
     "data": {
      "text/plain": [
       "[<matplotlib.lines.Line2D at 0x7fb260cc59b0>]"
      ]
     },
     "execution_count": 9,
     "metadata": {},
     "output_type": "execute_result"
    },
    {
     "data": {
      "image/png": "[encoded data removed]",
      "text/plain": [
       "<Figure size 432x288 with 1 Axes>"
      ]
     },
     "metadata": {
      "image/png": {
       "height": 248,
       "width": 372
      },
      "needs_background": "light"
     },
     "output_type": "display_data"
    }
   ],
   "source": [
    "#I'm being nice for you\n",
    "midpoints = (bins[1:] + bins[:-1])/2.0\n",
    "prob = [ [m, x1/(x2+x1)] for m, x1, x2 in zip(midpoints, hp, hm) if x1+x2>0 ]\n",
    "xs = [x for x,y in prob]\n",
    "ys = [y for x,y in prob]\n",
    "plt.plot(xs, ys, 'or')"
   ]
  },
  {
   "cell_type": "markdown",
   "metadata": {},
   "source": [
    "2) Should you use linear regression $P(y = +1 | x) = mx + c$ to predict the probability? \n",
    "\n",
    "\n",
    "Why? If you have time try and see what happens."
   ]
  },
  {
   "cell_type": "code",
   "execution_count": null,
   "metadata": {
    "collapsed": true
   },
   "outputs": [],
   "source": []
  },
  {
   "cell_type": "markdown",
   "metadata": {},
   "source": [
    "## Theory\n",
    "\n",
    "\n",
    "### Logistic Function"
   ]
  },
  {
   "cell_type": "markdown",
   "metadata": {},
   "source": [
    "3) Plot with $s = -5 \\ldots 5$ Then explain why it is preferred over linear function $ms +c$\n",
    "\n",
    "$$\\theta(s) = \\frac{1}{1+e^{-s}}$$"
   ]
  },
  {
   "cell_type": "code",
   "execution_count": 14,
   "metadata": {
    "ExecuteTime": {
     "end_time": "2022-05-11T06:45:59.106878Z",
     "start_time": "2022-05-11T06:45:58.863382Z"
    }
   },
   "outputs": [
    {
     "data": {
      "text/plain": [
       "[<matplotlib.lines.Line2D at 0x7fb29121e630>]"
      ]
     },
     "execution_count": 14,
     "metadata": {},
     "output_type": "execute_result"
    },
    {
     "data": {
      "image/png": "[encoded data removed]",
      "text/plain": [
       "<Figure size 432x288 with 1 Axes>"
      ]
     },
     "metadata": {
      "image/png": {
       "height": 248,
       "width": 372
      },
      "needs_background": "light"
     },
     "output_type": "display_data"
    }
   ],
   "source": [
    "def theta(s):\n",
    "    return 1/(1+np.exp(-s))\n",
    "\n",
    "xxs = np.linspace(-7, 7, 100)\n",
    "plt.plot(xxs, theta(xxs))\n",
    "plt.plot(xxs, theta(-4*xxs-2))\n",
    "plt.plot(xs, ys, 'or')"
   ]
  },
  {
   "cell_type": "markdown",
   "metadata": {},
   "source": [
    "4) Find $\\theta(\\infty)$ and $\\theta(-\\infty)$ and $\\theta(0)$"
   ]
  },
  {
   "cell_type": "code",
   "execution_count": null,
   "metadata": {
    "collapsed": true
   },
   "outputs": [],
   "source": []
  },
  {
   "cell_type": "markdown",
   "metadata": {},
   "source": [
    "5) Show that\n",
    "\n",
    "$$1-\\theta(s) = \\theta(-s)$$"
   ]
  },
  {
   "cell_type": "code",
   "execution_count": null,
   "metadata": {
    "collapsed": true
   },
   "outputs": [],
   "source": []
  },
  {
   "cell_type": "markdown",
   "metadata": {},
   "source": [
    "6) How should we compte $s$ from the features ?"
   ]
  },
  {
   "cell_type": "code",
   "execution_count": null,
   "metadata": {
    "collapsed": true
   },
   "outputs": [],
   "source": []
  },
  {
   "cell_type": "markdown",
   "metadata": {},
   "source": [
    "7) Given that you use hypothesis $$ P_\\vec{w}(1 | \\vec{x}) = \\theta(\\vec{w}\\cdot\\vec{x}) $$\n",
    "and that you only 2 classes (+1 and -1) what is\n",
    "\n",
    "$$ P_\\vec{w}(-1 | \\vec{x})$$"
   ]
  },
  {
   "cell_type": "code",
   "execution_count": null,
   "metadata": {
    "collapsed": true
   },
   "outputs": [],
   "source": []
  },
  {
   "cell_type": "markdown",
   "metadata": {},
   "source": [
    "8) What parameter parametrize your hypothesis?"
   ]
  },
  {
   "cell_type": "code",
   "execution_count": null,
   "metadata": {
    "collapsed": true
   },
   "outputs": [],
   "source": []
  },
  {
   "cell_type": "markdown",
   "metadata": {},
   "source": [
    "9) Use the fact from 5) write what you found in 7 in a simpler form\n",
    "\n",
    "$$\n",
    "P_\\vec{w}(y|\\vec{x}) = \\begin{cases}\n",
    "    \\ldots & y = 1 \\\\\n",
    "    \\ldots & y = -1\n",
    "\\end{cases}\n",
    "$$"
   ]
  },
  {
   "cell_type": "code",
   "execution_count": null,
   "metadata": {
    "collapsed": true
   },
   "outputs": [],
   "source": []
  },
  {
   "cell_type": "markdown",
   "metadata": {},
   "source": [
    "10) Use the fact that $y\\in\\{-1, 1\\}$ and convince yourself that what you wrote above is just\n",
    "\n",
    "$$ P_\\vec{w}\\left(y|\\vec{x} \\right) = \\theta\\left(y \\times \\left( \\vec{w} \\cdot \\vec{x} \\right) \\right)$$"
   ]
  },
  {
   "cell_type": "code",
   "execution_count": null,
   "metadata": {
    "collapsed": true
   },
   "outputs": [],
   "source": []
  },
  {
   "cell_type": "markdown",
   "metadata": {},
   "source": [
    "11) How do we distinguish a good hypothesis from bad hypothesis? (good $\\vec{w}$ from bad $\\vec{w}$)"
   ]
  },
  {
   "cell_type": "code",
   "execution_count": null,
   "metadata": {
    "collapsed": true
   },
   "outputs": [],
   "source": []
  },
  {
   "cell_type": "markdown",
   "metadata": {},
   "source": [
    "12) What does likelihood represents?"
   ]
  },
  {
   "cell_type": "code",
   "execution_count": null,
   "metadata": {
    "collapsed": true
   },
   "outputs": [],
   "source": []
  },
  {
   "cell_type": "markdown",
   "metadata": {},
   "source": [
    "13) Let us do one concrete example here.  Calculate the likelihood for $\\vec{w}$ given these data point\n",
    "$$\\vec{w}_1 = (1,2,3)$$\n",
    "- A: $y = 1$, $x=[1, -1]$\n",
    "- B: $y = -1$, $x=[-2, 1]$ \n",
    "\n",
    "Don't forget to pad your feature."
   ]
  },
  {
   "cell_type": "code",
   "execution_count": 17,
   "metadata": {},
   "outputs": [],
   "source": [
    "def theta(s):\n",
    "    return 1.0/(1.0 + np.exp(-s))"
   ]
  },
  {
   "cell_type": "markdown",
   "metadata": {},
   "source": [
    "14) Is $\\vec{w}_2 = (1,1,1)$ a better hypothesis?"
   ]
  },
  {
   "cell_type": "code",
   "execution_count": null,
   "metadata": {
    "collapsed": true
   },
   "outputs": [],
   "source": []
  },
  {
   "cell_type": "markdown",
   "metadata": {},
   "source": [
    "15) What happen when we take log of the likelihood? Write down log likehood in terms of feature, weight and classes."
   ]
  },
  {
   "cell_type": "code",
   "execution_count": null,
   "metadata": {
    "collapsed": true
   },
   "outputs": [],
   "source": []
  },
  {
   "cell_type": "markdown",
   "metadata": {},
   "source": [
    "16) Does greater log likelihood indicate a better hypothesis? Or is it the other way around."
   ]
  },
  {
   "cell_type": "code",
   "execution_count": null,
   "metadata": {
    "collapsed": true
   },
   "outputs": [],
   "source": []
  },
  {
   "cell_type": "markdown",
   "metadata": {},
   "source": [
    "17) Write down our cost function. Do we want to maximize or minimize the cost function?"
   ]
  },
  {
   "cell_type": "code",
   "execution_count": null,
   "metadata": {
    "collapsed": true
   },
   "outputs": [],
   "source": []
  },
  {
   "cell_type": "markdown",
   "metadata": {},
   "source": [
    "18) Turn what you found in 17 to minization problem."
   ]
  },
  {
   "cell_type": "code",
   "execution_count": null,
   "metadata": {
    "collapsed": true
   },
   "outputs": [],
   "source": []
  },
  {
   "cell_type": "code",
   "execution_count": 34,
   "metadata": {
    "ExecuteTime": {
     "end_time": "2022-05-11T07:38:37.985354Z",
     "start_time": "2022-05-11T07:38:37.969032Z"
    }
   },
   "outputs": [
    {
     "data": {
      "text/plain": [
       "array([ 1.,  1.,  1., ..., -1., -1., -1.])"
      ]
     },
     "execution_count": 34,
     "metadata": {},
     "output_type": "execute_result"
    }
   ],
   "source": [
    "\n",
    "\n",
    "a = np.vstack([np.ones(len(xps)), xps]).T\n",
    "b = np.vstack([np.ones(len(xms)), xms]).T\n",
    "features = np.vstack([a,b])\n",
    "klasses = np.hstack([np.ones(len(xps)), -np.ones(len(xms))])\n",
    "klasses"
   ]
  },
  {
   "cell_type": "markdown",
   "metadata": {},
   "source": [
    "19) Minimize it and try to debug it. You will most likely run into a bunch of numerical problems.\n",
    "\n",
    "Hint: computer doesn't like '$e^x$ when $x$ is large. You may find numpy.clip useful\n",
    "\n",
    "Hint: `log` function is typically inaccurate when the argument is near 1. Use `log1p` when you want to calculate `log(1+x)` for greater accuracy."
   ]
  },
  {
   "cell_type": "code",
   "execution_count": 50,
   "metadata": {
    "ExecuteTime": {
     "end_time": "2022-05-11T07:51:28.659063Z",
     "start_time": "2022-05-11T07:51:28.624485Z"
    }
   },
   "outputs": [
    {
     "data": {
      "text/plain": [
       "array([-1.38999999,  2.1164813 ])"
      ]
     },
     "execution_count": 50,
     "metadata": {},
     "output_type": "execute_result"
    }
   ],
   "source": [
    "from scipy.optimize import minimize\n",
    "from scipy.special import expit # logistic function\n",
    "\n",
    "def pad(xs):\n",
    "    return np.vstack([np.ones(len(xs)), xs]).T\n",
    "\n",
    "# P(y, height) = theta(y*(m*x+c))\n",
    "class LogisticRegression:\n",
    "    def __init__(self):\n",
    "        self.w = None\n",
    "        \n",
    "    # note that the featuer is padded\n",
    "    def train(self, features, klasses):\n",
    "        # find m and c\n",
    "        def cost(w):\n",
    "            # negative log likelihood\n",
    "            return -np.sum(np.log(expit(klasses*(features@w))))\n",
    "        _, n_feature = features.shape\n",
    "        result = minimize(cost, [0]*n_feature)\n",
    "        self.w = result.x\n",
    "    def prob(self, xs): # padded\n",
    "        pxs = pad(xs)\n",
    "        return expit(pxs@self.w)\n",
    "\n",
    "lr = LogisticRegression()\n",
    "lr.train(features, klasses)\n",
    "lr.w"
   ]
  },
  {
   "cell_type": "code",
   "execution_count": null,
   "metadata": {},
   "outputs": [],
   "source": []
  },
  {
   "cell_type": "code",
   "execution_count": 51,
   "metadata": {
    "ExecuteTime": {
     "end_time": "2022-05-11T07:51:30.100499Z",
     "start_time": "2022-05-11T07:51:29.929954Z"
    }
   },
   "outputs": [
    {
     "data": {
      "text/plain": [
       "[<matplotlib.lines.Line2D at 0x7fb2719125c0>]"
      ]
     },
     "execution_count": 51,
     "metadata": {},
     "output_type": "execute_result"
    },
    {
     "data": {
      "image/png": "[encoded data removed]",
      "text/plain": [
       "<Figure size 432x288 with 1 Axes>"
      ]
     },
     "metadata": {
      "image/png": {
       "height": 248,
       "width": 372
      },
      "needs_background": "light"
     },
     "output_type": "display_data"
    }
   ],
   "source": [
    "plt.plot(xxs, lr.prob(xxs))\n",
    "\n",
    "plt.plot(xs, ys, 'or')"
   ]
  },
  {
   "cell_type": "markdown",
   "metadata": {},
   "source": [
    "20) Once you are done. Compare you hypothesis with the probability getting from data."
   ]
  },
  {
   "cell_type": "code",
   "execution_count": null,
   "metadata": {
    "collapsed": true
   },
   "outputs": [],
   "source": []
  },
  {
   "cell_type": "markdown",
   "metadata": {},
   "source": [
    "21) For a new data point $x = 0.1$, what is the probability that it belongs to class $y=1$"
   ]
  },
  {
   "cell_type": "code",
   "execution_count": null,
   "metadata": {},
   "outputs": [],
   "source": []
  },
  {
   "cell_type": "markdown",
   "metadata": {},
   "source": [
    "## Logistic in Higher Dimension"
   ]
  },
  {
   "cell_type": "code",
   "execution_count": 74,
   "metadata": {},
   "outputs": [
    {
     "data": {
      "image/png": "[encoded data removed]",
      "text/plain": [
       "<Figure size 432x288 with 1 Axes>"
      ]
     },
     "metadata": {
      "needs_background": "light"
     },
     "output_type": "display_data"
    }
   ],
   "source": [
    "n = 100\n",
    "np.random.seed(9999)\n",
    "x1s = np.random.random(n)\n",
    "x2s = np.random.random(n)\n",
    "plt.plot(x1s, x2s, '.')\n",
    "def sigm(x):\n",
    "    return 1/(1+math.exp(-x))\n",
    "ys = np.array([ np.random.rand() > sigm(5*x1 + 5*x2 - 5) for x1, x2 in zip(x1s, x2s)], float)\n",
    "ys[ys==1] = 1\n",
    "ys[ys==0] = -1\n",
    "\n",
    "plt.plot(x1s[ys>0], x2s[ys>0], '.r')\n",
    "plt.plot(x1s[ys<0], x2s[ys<0], '.b')\n",
    "\n",
    "xs = np.vstack((x1s.T, x2s.T)) #this is how you stack them up vertically\n",
    "pad_xs = np.vstack((np.ones(n), xs))\n",
    "df = pd.DataFrame(data=pad_xs.T, columns=('xclass', 'x1', 'x2'))"
   ]
  },
  {
   "cell_type": "code",
   "execution_count": 75,
   "metadata": {},
   "outputs": [],
   "source": [
    "#display(df)"
   ]
  },
  {
   "cell_type": "markdown",
   "metadata": {},
   "source": [
    "1) Perform a logistic regression on the given data. What is your $s$ now?"
   ]
  },
  {
   "cell_type": "code",
   "execution_count": null,
   "metadata": {},
   "outputs": [],
   "source": []
  },
  {
   "cell_type": "markdown",
   "metadata": {},
   "source": [
    "2) What is the equation for the line that represent $P(y=1|\\vec{x})=0.5$. Recall that sigmoid(0)=0.5. Draw it along with the data."
   ]
  },
  {
   "cell_type": "code",
   "execution_count": null,
   "metadata": {},
   "outputs": [],
   "source": []
  },
  {
   "cell_type": "markdown",
   "metadata": {},
   "source": [
    "3) Now try 0.3 and 0.7 line."
   ]
  },
  {
   "cell_type": "code",
   "execution_count": null,
   "metadata": {},
   "outputs": [],
   "source": []
  },
  {
   "cell_type": "markdown",
   "metadata": {},
   "source": [
    "# ROC Curve (receiver operating characteristic)"
   ]
  },
  {
   "cell_type": "markdown",
   "metadata": {},
   "source": [
    "Let us consider a fingerprint application to authenticate people through super secret stuff. So the class +1 means authenticate and -1 means denied entry."
   ]
  },
  {
   "cell_type": "markdown",
   "metadata": {},
   "source": [
    "1) What is True Positive?"
   ]
  },
  {
   "cell_type": "code",
   "execution_count": null,
   "metadata": {
    "collapsed": true
   },
   "outputs": [],
   "source": []
  },
  {
   "cell_type": "markdown",
   "metadata": {},
   "source": [
    "2) What is False Positive?"
   ]
  },
  {
   "cell_type": "code",
   "execution_count": null,
   "metadata": {
    "collapsed": true
   },
   "outputs": [],
   "source": []
  },
  {
   "cell_type": "markdown",
   "metadata": {},
   "source": [
    "3) What is False Positive?"
   ]
  },
  {
   "cell_type": "code",
   "execution_count": null,
   "metadata": {
    "collapsed": true
   },
   "outputs": [],
   "source": []
  },
  {
   "cell_type": "markdown",
   "metadata": {},
   "source": [
    "4) What is False Negative?"
   ]
  },
  {
   "cell_type": "code",
   "execution_count": null,
   "metadata": {
    "collapsed": true
   },
   "outputs": [],
   "source": []
  },
  {
   "cell_type": "markdown",
   "metadata": {},
   "source": [
    "5) Which of the above number you want to be high and which of the above number you want to be low?"
   ]
  },
  {
   "cell_type": "code",
   "execution_count": null,
   "metadata": {
    "collapsed": true
   },
   "outputs": [],
   "source": []
  },
  {
   "cell_type": "markdown",
   "metadata": {},
   "source": [
    "6) Where would you place a cut on classifier output to make True Positive rate really high? What 's wrong with that?"
   ]
  },
  {
   "cell_type": "code",
   "execution_count": null,
   "metadata": {
    "collapsed": true
   },
   "outputs": [],
   "source": []
  },
  {
   "cell_type": "markdown",
   "metadata": {},
   "source": [
    "7) Where would you place a cut on classifier output to make True Negative rate really high? What 's wrong with that?"
   ]
  },
  {
   "cell_type": "code",
   "execution_count": null,
   "metadata": {
    "collapsed": true
   },
   "outputs": [],
   "source": []
  },
  {
   "cell_type": "markdown",
   "metadata": {},
   "source": [
    "8) If we place a cut at 0.3. What are the numbers for \"True positive sample\", \"True negative sample\", \"False postive samples\", \"False negative samples\"\n",
    "\n",
    "Write a function to do that we need it later."
   ]
  },
  {
   "cell_type": "code",
   "execution_count": null,
   "metadata": {
    "collapsed": true
   },
   "outputs": [],
   "source": []
  },
  {
   "cell_type": "markdown",
   "metadata": {},
   "source": [
    "9) If we place a cut at 0.3. What is \"True positive **rate**\", \"True negative **rate**\", \"False postive **rate**\", \"False negative **rate**\" \n",
    "\n",
    "Write a function to do that. We will need it later."
   ]
  },
  {
   "cell_type": "code",
   "execution_count": null,
   "metadata": {
    "collapsed": true
   },
   "outputs": [],
   "source": []
  },
  {
   "cell_type": "markdown",
   "metadata": {},
   "source": [
    "10) If we place a cut at 0.7. Which of the rate would be higher and which of the rate would be lower? (Reason first, then run the code and see if it matches)"
   ]
  },
  {
   "cell_type": "code",
   "execution_count": null,
   "metadata": {
    "collapsed": true
   },
   "outputs": [],
   "source": []
  },
  {
   "cell_type": "markdown",
   "metadata": {},
   "source": [
    "11) Vary the cut and plot True positive rate on y axis and false positive rate on x axis. This curve is called ROC curve.\n",
    "if you classifier is good which corner it should go?"
   ]
  },
  {
   "cell_type": "code",
   "execution_count": null,
   "metadata": {
    "collapsed": true
   },
   "outputs": [],
   "source": []
  },
  {
   "cell_type": "markdown",
   "metadata": {},
   "source": [
    "12) Consider these two fingerprint application and tell relatively where we should place a cut(which one with higher cut?)\n",
    "\n",
    "A) FBI Door fingerprint.\n",
    "\n",
    "B) Supermarket membership where use scan finger to verify the membership."
   ]
  },
  {
   "cell_type": "code",
   "execution_count": null,
   "metadata": {
    "collapsed": true
   },
   "outputs": [],
   "source": []
  }
 ],
 "metadata": {
  "hide_input": false,
  "kernelspec": {
   "display_name": "Python 3",
   "language": "python",
   "name": "python3"
  },
  "language_info": {
   "codemirror_mode": {
    "name": "ipython",
    "version": 3
   },
   "file_extension": ".py",
   "mimetype": "text/x-python",
   "name": "python",
   "nbconvert_exporter": "python",
   "pygments_lexer": "ipython3",
   "version": "3.7.3"
  },
  "toc": {
   "colors": {
    "hover_highlight": "#DAA520",
    "running_highlight": "#FF0000",
    "selected_highlight": "#FFD700"
   },
   "moveMenuLeft": true,
   "nav_menu": {
    "height": "66px",
    "width": "252px"
   },
   "navigate_menu": true,
   "number_sections": false,
   "sideBar": true,
   "threshold": 4,
   "toc_cell": false,
   "toc_section_display": "block",
   "toc_window_display": false
  }
 },
 "nbformat": 4,
 "nbformat_minor": 1
}
